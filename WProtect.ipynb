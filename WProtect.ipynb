{
 "cells": [
  {
   "cell_type": "code",
   "execution_count": 1,
   "metadata": {
    "collapsed": true
   },
   "outputs": [],
   "source": [
    "from vm.mnemonic import WProtectMnemonic\n",
    "from vm.analysis import PEAnalysis, WProtectEmulator, WProtectTracer\n",
    "import vm.obfuscation\n",
    "import semantic.flow\n",
    "import semantic.translator\n",
    "from vm.rule_generator import generate_rules"
   ]
  },
  {
   "cell_type": "markdown",
   "metadata": {},
   "source": [
    "__Load binary file and recover its instructions__  \n",
    "There are several several samples provided. Those samples test conditional jumps as they do require a context. Uncomment a sample, or provide a binary of your own."
   ]
  },
  {
   "cell_type": "code",
   "execution_count": 2,
   "metadata": {},
   "outputs": [
    {
     "name": "stderr",
     "output_type": "stream",
     "text": [
      "WARNING: warning null reldesc\n"
     ]
    },
    {
     "name": "stdout",
     "output_type": "stream",
     "text": [
      "[INFO]\tPE loaded\n",
      "[INFO]\treachable code analysis done\n"
     ]
    },
    {
     "name": "stderr",
     "output_type": "stream",
     "text": [
      "WARNING: not enough bytes in str\n",
      "WARNING: cannot disasm at F\n",
      "WARNING: not enough bytes in str\n",
      "WARNING: cannot disasm at 2\n"
     ]
    },
    {
     "name": "stdout",
     "output_type": "stream",
     "text": [
      "[INFO]\tWProtect vm mnemonics found at offset 0x40a901\n"
     ]
    },
    {
     "name": "stderr",
     "output_type": "stream",
     "text": [
      "WARNING: not enough bytes in str\n",
      "WARNING: cannot disasm at 24\n",
      "WARNING: not enough bytes in str\n",
      "WARNING: cannot disasm at 1\n",
      "WARNING: not enough bytes in str\n",
      "WARNING: cannot disasm at 9\n",
      "WARNING: not enough bytes in str\n",
      "WARNING: cannot disasm at 4\n",
      "WARNING: not enough bytes in str\n",
      "WARNING: cannot disasm at 2\n",
      "WARNING: not enough bytes in str\n",
      "WARNING: cannot disasm at E\n",
      "WARNING: not enough bytes in str\n",
      "WARNING: cannot disasm at 9\n",
      "WARNING: not enough bytes in str\n",
      "WARNING: cannot disasm at 8\n",
      "WARNING: not enough bytes in str\n",
      "WARNING: cannot disasm at 9\n",
      "WARNING: not enough bytes in str\n",
      "WARNING: cannot disasm at 6\n",
      "WARNING: not enough bytes in str\n",
      "WARNING: cannot disasm at 9\n",
      "WARNING: not enough bytes in str\n",
      "WARNING: cannot disasm at 8\n",
      "WARNING: not enough bytes in str\n",
      "WARNING: cannot disasm at 4\n",
      "WARNING: not enough bytes in str\n",
      "WARNING: cannot disasm at 8\n",
      "WARNING: not enough bytes in str\n",
      "WARNING: cannot disasm at 0\n",
      "WARNING: not enough bytes in str\n",
      "WARNING: cannot disasm at 0\n",
      "WARNING: not enough bytes in str\n",
      "WARNING: cannot disasm at 4\n",
      "WARNING: not enough bytes in str\n",
      "WARNING: cannot disasm at 0\n",
      "WARNING: not enough bytes in str\n",
      "WARNING: cannot disasm at 0\n",
      "WARNING: not enough bytes in str\n",
      "WARNING: cannot disasm at 6\n",
      "WARNING: not enough bytes in str\n",
      "WARNING: cannot disasm at 8\n",
      "WARNING: not enough bytes in str\n",
      "WARNING: cannot disasm at 8\n",
      "WARNING: not enough bytes in str\n",
      "WARNING: cannot disasm at A\n",
      "WARNING: not enough bytes in str\n",
      "WARNING: cannot disasm at B\n",
      "WARNING: not enough bytes in str\n",
      "WARNING: cannot disasm at 17\n",
      "WARNING: not enough bytes in str\n",
      "WARNING: cannot disasm at 15\n",
      "WARNING: not enough bytes in str\n",
      "WARNING: cannot disasm at 15\n",
      "WARNING: not enough bytes in str\n",
      "WARNING: cannot disasm at 0\n",
      "WARNING: not enough bytes in str\n",
      "WARNING: cannot disasm at 5\n",
      "WARNING: not enough bytes in str\n",
      "WARNING: cannot disasm at 7\n",
      "WARNING: not enough bytes in str\n",
      "WARNING: cannot disasm at 11\n",
      "WARNING: not enough bytes in str\n",
      "WARNING: cannot disasm at F\n",
      "WARNING: not enough bytes in str\n",
      "WARNING: cannot disasm at 0\n",
      "WARNING: not enough bytes in str\n",
      "WARNING: cannot disasm at 5\n",
      "WARNING: not enough bytes in str\n",
      "WARNING: cannot disasm at 0\n",
      "WARNING: not enough bytes in str\n",
      "WARNING: cannot disasm at 0\n",
      "WARNING: not enough bytes in str\n",
      "WARNING: cannot disasm at 0\n",
      "WARNING: not enough bytes in str\n",
      "WARNING: cannot disasm at 6\n",
      "WARNING: not enough bytes in str\n",
      "WARNING: cannot disasm at 5\n",
      "WARNING: not enough bytes in str\n",
      "WARNING: cannot disasm at D\n",
      "WARNING: not enough bytes in str\n",
      "WARNING: cannot disasm at 9\n",
      "WARNING: not enough bytes in str\n",
      "WARNING: cannot disasm at 3\n",
      "WARNING: not enough bytes in str\n",
      "WARNING: cannot disasm at 10\n",
      "WARNING: not enough bytes in str\n",
      "WARNING: cannot disasm at 5\n",
      "WARNING: not enough bytes in str\n",
      "WARNING: cannot disasm at 6\n",
      "WARNING: not enough bytes in str\n",
      "WARNING: cannot disasm at F\n",
      "WARNING: not enough bytes in str\n",
      "WARNING: cannot disasm at F\n",
      "WARNING: not enough bytes in str\n",
      "WARNING: cannot disasm at F\n",
      "WARNING: not enough bytes in str\n",
      "WARNING: cannot disasm at 8\n",
      "WARNING: not enough bytes in str\n",
      "WARNING: cannot disasm at D\n",
      "WARNING: not enough bytes in str\n",
      "WARNING: cannot disasm at 12\n",
      "WARNING: not enough bytes in str\n",
      "WARNING: cannot disasm at 4\n",
      "WARNING: not enough bytes in str\n",
      "WARNING: cannot disasm at 1\n",
      "WARNING: not enough bytes in str\n",
      "WARNING: cannot disasm at 7\n",
      "WARNING: not enough bytes in str\n",
      "WARNING: cannot disasm at 0\n",
      "WARNING: not enough bytes in str\n",
      "WARNING: cannot disasm at 4\n",
      "WARNING: not enough bytes in str\n",
      "WARNING: cannot disasm at B\n",
      "WARNING: not enough bytes in str\n",
      "WARNING: cannot disasm at B\n",
      "WARNING: not enough bytes in str\n",
      "WARNING: cannot disasm at 2\n",
      "WARNING: not enough bytes in str\n",
      "WARNING: cannot disasm at 0\n",
      "WARNING: not enough bytes in str\n",
      "WARNING: cannot disasm at 19\n",
      "WARNING: not enough bytes in str\n",
      "WARNING: cannot disasm at 4\n",
      "WARNING: not enough bytes in str\n",
      "WARNING: cannot disasm at C\n",
      "WARNING: not enough bytes in str\n",
      "WARNING: cannot disasm at 3\n",
      "WARNING: not enough bytes in str\n",
      "WARNING: cannot disasm at C\n",
      "WARNING: not enough bytes in str\n",
      "WARNING: cannot disasm at 12\n",
      "WARNING: not enough bytes in str\n",
      "WARNING: cannot disasm at D\n",
      "WARNING: not enough bytes in str\n",
      "WARNING: cannot disasm at E\n",
      "WARNING: not enough bytes in str\n",
      "WARNING: cannot disasm at 15\n",
      "WARNING: not enough bytes in str\n",
      "WARNING: cannot disasm at F\n",
      "WARNING: not enough bytes in str\n",
      "WARNING: cannot disasm at 11\n",
      "WARNING: not enough bytes in str\n",
      "WARNING: cannot disasm at A\n",
      "WARNING: not enough bytes in str\n",
      "WARNING: cannot disasm at 16\n",
      "WARNING: not enough bytes in str\n",
      "WARNING: cannot disasm at 18\n",
      "WARNING: not enough bytes in str\n",
      "WARNING: cannot disasm at 15\n"
     ]
    },
    {
     "name": "stdout",
     "output_type": "stream",
     "text": [
      "[INFO]\tMnemonics loaded\n"
     ]
    }
   ],
   "source": [
    "binary = WProtectEmulator(\"if_all/if_jz.wp.exe\")\n",
    "#binary = WProtectEmulator(\"if_all/if_jb.wp.exe\")\n",
    "#binary = WProtectEmulator(\"if_all/if_jo.wp.exe\")\n",
    "#binary = WProtectEmulator(\"if_all/if_js.wp.exe\")\n",
    "#binary = WProtectEmulator(\"if_all/if_jbe.wp.exe\")\n",
    "#binary = WProtectEmulator(\"if_all/if_jl.wp.exe\")\n",
    "#binary = WProtectEmulator(\"if_all/if_jle.wp.exe\")\n",
    "#binary = WProtectEmulator(\"if_all/if_jp.wp.exe\")\n",
    "binary.find()\n",
    "instructions = binary.recover_mnemonics(binary.offset, WProtectMnemonic)[1]\n",
    "WProtectMnemonic.consolidate_names(instructions)"
   ]
  },
  {
   "cell_type": "markdown",
   "metadata": {},
   "source": [
    "__Reconstruct the control flow and get continuous code blocks.__  \n",
    "The function _callback_ passes instructions to _WProtectControlFlow_ as they are read by _WProtectTracer_. _WProtectTracer_ always creates new states (one if no branching occured, two otherwise), these states are inserted into a processing queue. In other words, after at most 2 instructions another branch, if available, is processed.  \n",
    "\n",
    "_WProtectControlFlow_ is then utilised to reconstruct the control flow and output code blocks (a sequence of instructions that is always executed continuously, the only jump is permitted at its end; similarly, the only jump destination is permitted at its beginning)."
   ]
  },
  {
   "cell_type": "code",
   "execution_count": 7,
   "metadata": {
    "collapsed": true,
    "scrolled": false
   },
   "outputs": [],
   "source": [
    "def callback(offset, instruction, args, off):\n",
    "    control_flow.add_node(offset, instruction, args, off)\n",
    "\n",
    "control_flow = semantic.flow.WProtectControlFlow(instructions)\n",
    "instance = WProtectTracer(binary, instructions)\n",
    "\n",
    "machine = [instance]\n",
    "index = 0\n",
    "while index < len(machine):\n",
    "    try:\n",
    "        tmp = machine[index].step(callback)\n",
    "        machine += tmp\n",
    "    except semantic.flow.PositionInstructionError as err:\n",
    "        pass\n",
    "    index += 1\n",
    "    \n",
    "blocks = control_flow.compile_blocks()"
   ]
  },
  {
   "cell_type": "markdown",
   "metadata": {},
   "source": [
    "__Translate blocks and assemble__  \n",
    "Use _semantic.translator.translate_blocks_ to translate all the instruction into the assembly language. A label is inserted at the beginning of every block. Translated blocks are concatenated, prepended with a memory reserved for registers, and "
   ]
  },
  {
   "cell_type": "code",
   "execution_count": 10,
   "metadata": {
    "scrolled": false
   },
   "outputs": [
    {
     "data": {
      "text/plain": [
       "'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'"
      ]
     },
     "execution_count": 10,
     "metadata": {},
     "output_type": "execute_result"
    }
   ],
   "source": [
    "def get_code(blocks):\n",
    "    def hexify(string):\n",
    "        return \"\".join([hex(ord(char))[2:].zfill(2) for char in string])\n",
    "    return hexify(semantic.translator.translate_blocks(blocks))\n",
    "\n",
    "get_code(blocks)"
   ]
  },
  {
   "cell_type": "code",
   "execution_count": null,
   "metadata": {
    "collapsed": true
   },
   "outputs": [],
   "source": []
  }
 ],
 "metadata": {
  "kernelspec": {
   "display_name": "Python 2",
   "language": "python",
   "name": "python2"
  },
  "language_info": {
   "codemirror_mode": {
    "name": "ipython",
    "version": 2
   },
   "file_extension": ".py",
   "mimetype": "text/x-python",
   "name": "python",
   "nbconvert_exporter": "python",
   "pygments_lexer": "ipython2",
   "version": "2.7.14"
  }
 },
 "nbformat": 4,
 "nbformat_minor": 2
}
