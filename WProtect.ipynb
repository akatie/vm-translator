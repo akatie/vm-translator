{
 "cells": [
  {
   "cell_type": "code",
   "execution_count": 1,
   "metadata": {
    "collapsed": true
   },
   "outputs": [],
   "source": [
    "from vm.mnemonic import WProtectMnemonic\n",
    "from vm.analysis import PEAnalysis, WProtectEmulator, WProtectTracer\n",
    "import vm.obfuscation\n",
    "import semantic.flow\n",
    "from vm.rule_generator import generate_rules"
   ]
  },
  {
   "cell_type": "markdown",
   "metadata": {},
   "source": [
    "_Load binary file and recover its instructions_"
   ]
  },
  {
   "cell_type": "code",
   "execution_count": 2,
   "metadata": {},
   "outputs": [
    {
     "name": "stderr",
     "output_type": "stream",
     "text": [
      "WARNING: warning null reldesc\n"
     ]
    },
    {
     "name": "stdout",
     "output_type": "stream",
     "text": [
      "[INFO]\tPE loaded\n",
      "[INFO]\treachable code analysis done\n"
     ]
    },
    {
     "name": "stderr",
     "output_type": "stream",
     "text": [
      "WARNING: not enough bytes in str\n",
      "WARNING: cannot disasm at F\n",
      "WARNING: not enough bytes in str\n",
      "WARNING: cannot disasm at 2\n"
     ]
    },
    {
     "name": "stdout",
     "output_type": "stream",
     "text": [
      "[INFO]\tWProtect vm mnemonics found at offset 0x40a901\n"
     ]
    },
    {
     "name": "stderr",
     "output_type": "stream",
     "text": [
      "WARNING: not enough bytes in str\n",
      "WARNING: cannot disasm at 24\n",
      "WARNING: not enough bytes in str\n",
      "WARNING: cannot disasm at 1\n",
      "WARNING: not enough bytes in str\n",
      "WARNING: cannot disasm at 9\n",
      "WARNING: not enough bytes in str\n",
      "WARNING: cannot disasm at 4\n",
      "WARNING: not enough bytes in str\n",
      "WARNING: cannot disasm at 2\n",
      "WARNING: not enough bytes in str\n",
      "WARNING: cannot disasm at E\n",
      "WARNING: not enough bytes in str\n",
      "WARNING: cannot disasm at 9\n",
      "WARNING: not enough bytes in str\n",
      "WARNING: cannot disasm at 8\n",
      "WARNING: not enough bytes in str\n",
      "WARNING: cannot disasm at 9\n",
      "WARNING: not enough bytes in str\n",
      "WARNING: cannot disasm at 6\n",
      "WARNING: not enough bytes in str\n",
      "WARNING: cannot disasm at 9\n",
      "WARNING: not enough bytes in str\n",
      "WARNING: cannot disasm at 8\n",
      "WARNING: not enough bytes in str\n",
      "WARNING: cannot disasm at 4\n",
      "WARNING: not enough bytes in str\n",
      "WARNING: cannot disasm at 8\n",
      "WARNING: not enough bytes in str\n",
      "WARNING: cannot disasm at 0\n",
      "WARNING: not enough bytes in str\n",
      "WARNING: cannot disasm at 0\n",
      "WARNING: not enough bytes in str\n",
      "WARNING: cannot disasm at 4\n",
      "WARNING: not enough bytes in str\n",
      "WARNING: cannot disasm at 0\n",
      "WARNING: not enough bytes in str\n",
      "WARNING: cannot disasm at 0\n",
      "WARNING: not enough bytes in str\n",
      "WARNING: cannot disasm at 6\n",
      "WARNING: not enough bytes in str\n",
      "WARNING: cannot disasm at 8\n",
      "WARNING: not enough bytes in str\n",
      "WARNING: cannot disasm at 8\n",
      "WARNING: not enough bytes in str\n",
      "WARNING: cannot disasm at A\n",
      "WARNING: not enough bytes in str\n",
      "WARNING: cannot disasm at B\n",
      "WARNING: not enough bytes in str\n",
      "WARNING: cannot disasm at 17\n",
      "WARNING: not enough bytes in str\n",
      "WARNING: cannot disasm at 15\n",
      "WARNING: not enough bytes in str\n",
      "WARNING: cannot disasm at 15\n",
      "WARNING: not enough bytes in str\n",
      "WARNING: cannot disasm at 0\n",
      "WARNING: not enough bytes in str\n",
      "WARNING: cannot disasm at 5\n",
      "WARNING: not enough bytes in str\n",
      "WARNING: cannot disasm at 7\n",
      "WARNING: not enough bytes in str\n",
      "WARNING: cannot disasm at 11\n",
      "WARNING: not enough bytes in str\n",
      "WARNING: cannot disasm at F\n",
      "WARNING: not enough bytes in str\n",
      "WARNING: cannot disasm at 0\n",
      "WARNING: not enough bytes in str\n",
      "WARNING: cannot disasm at 5\n",
      "WARNING: not enough bytes in str\n",
      "WARNING: cannot disasm at 0\n",
      "WARNING: not enough bytes in str\n",
      "WARNING: cannot disasm at 0\n",
      "WARNING: not enough bytes in str\n",
      "WARNING: cannot disasm at 0\n",
      "WARNING: not enough bytes in str\n",
      "WARNING: cannot disasm at 6\n",
      "WARNING: not enough bytes in str\n",
      "WARNING: cannot disasm at 5\n",
      "WARNING: not enough bytes in str\n",
      "WARNING: cannot disasm at D\n",
      "WARNING: not enough bytes in str\n",
      "WARNING: cannot disasm at 9\n",
      "WARNING: not enough bytes in str\n",
      "WARNING: cannot disasm at 3\n",
      "WARNING: not enough bytes in str\n",
      "WARNING: cannot disasm at 10\n",
      "WARNING: not enough bytes in str\n",
      "WARNING: cannot disasm at 5\n",
      "WARNING: not enough bytes in str\n",
      "WARNING: cannot disasm at 6\n",
      "WARNING: not enough bytes in str\n",
      "WARNING: cannot disasm at F\n",
      "WARNING: not enough bytes in str\n",
      "WARNING: cannot disasm at F\n",
      "WARNING: not enough bytes in str\n",
      "WARNING: cannot disasm at F\n",
      "WARNING: not enough bytes in str\n",
      "WARNING: cannot disasm at 8\n",
      "WARNING: not enough bytes in str\n",
      "WARNING: cannot disasm at D\n",
      "WARNING: not enough bytes in str\n",
      "WARNING: cannot disasm at 12\n",
      "WARNING: not enough bytes in str\n",
      "WARNING: cannot disasm at 4\n",
      "WARNING: not enough bytes in str\n",
      "WARNING: cannot disasm at 1\n",
      "WARNING: not enough bytes in str\n",
      "WARNING: cannot disasm at 7\n",
      "WARNING: not enough bytes in str\n",
      "WARNING: cannot disasm at 0\n",
      "WARNING: not enough bytes in str\n",
      "WARNING: cannot disasm at 4\n",
      "WARNING: not enough bytes in str\n",
      "WARNING: cannot disasm at B\n",
      "WARNING: not enough bytes in str\n",
      "WARNING: cannot disasm at B\n",
      "WARNING: not enough bytes in str\n",
      "WARNING: cannot disasm at 2\n",
      "WARNING: not enough bytes in str\n",
      "WARNING: cannot disasm at 0\n",
      "WARNING: not enough bytes in str\n",
      "WARNING: cannot disasm at 19\n",
      "WARNING: not enough bytes in str\n",
      "WARNING: cannot disasm at 4\n",
      "WARNING: not enough bytes in str\n",
      "WARNING: cannot disasm at C\n",
      "WARNING: not enough bytes in str\n",
      "WARNING: cannot disasm at 3\n",
      "WARNING: not enough bytes in str\n",
      "WARNING: cannot disasm at C\n",
      "WARNING: not enough bytes in str\n",
      "WARNING: cannot disasm at 12\n",
      "WARNING: not enough bytes in str\n",
      "WARNING: cannot disasm at D\n",
      "WARNING: not enough bytes in str\n",
      "WARNING: cannot disasm at E\n",
      "WARNING: not enough bytes in str\n",
      "WARNING: cannot disasm at 15\n",
      "WARNING: not enough bytes in str\n",
      "WARNING: cannot disasm at F\n",
      "WARNING: not enough bytes in str\n",
      "WARNING: cannot disasm at 11\n",
      "WARNING: not enough bytes in str\n",
      "WARNING: cannot disasm at A\n",
      "WARNING: not enough bytes in str\n",
      "WARNING: cannot disasm at 16\n",
      "WARNING: not enough bytes in str\n",
      "WARNING: cannot disasm at 18\n",
      "WARNING: not enough bytes in str\n",
      "WARNING: cannot disasm at 15\n"
     ]
    },
    {
     "name": "stdout",
     "output_type": "stream",
     "text": [
      "[INFO]\tMnemonics loaded\n"
     ]
    }
   ],
   "source": [
    "binary = WProtectEmulator(\"if_all/if_jz.wp.exe\")\n",
    "#binary = WProtectEmulator(\"if_all/if_jb.wp.exe\")\n",
    "#binary = WProtectEmulator(\"if_all/if_jo.wp.exe\")\n",
    "#binary = WProtectEmulator(\"if_all/if_js.wp.exe\")\n",
    "#binary = WProtectEmulator(\"if_all/if_jbe.wp.exe\")\n",
    "#binary = WProtectEmulator(\"if_all/if_jl.wp.exe\")\n",
    "#binary = WProtectEmulator(\"if_all/if_jle.wp.exe\")\n",
    "#binary = WProtectEmulator(\"if_all/if_jp.wp.exe\")\n",
    "binary.find()\n",
    "instructions = binary.recover_mnemonics(binary.offset, WProtectMnemonic)[1]\n",
    "WProtectMnemonic.consolidate_names(instructions)"
   ]
  },
  {
   "cell_type": "markdown",
   "metadata": {},
   "source": [
    "_Reconstruct the control flow and get continuous code blocks._"
   ]
  },
  {
   "cell_type": "code",
   "execution_count": 3,
   "metadata": {
    "collapsed": true,
    "scrolled": false
   },
   "outputs": [],
   "source": [
    "def callback(offset, instruction, args, off):\n",
    "    control_flow.add_node(offset, instruction, args, off)\n",
    "\n",
    "control_flow = semantic.flow.WProtectControlFlow(instructions)\n",
    "instance = WProtectTracer(binary, instructions)\n",
    "\n",
    "machine = [instance]\n",
    "index = 0\n",
    "while index < len(machine):\n",
    "    try:\n",
    "        tmp = machine[index].step(callback)\n",
    "        machine += tmp\n",
    "    except semantic.flow.PositionInstructionError as err:\n",
    "        pass\n",
    "    index += 1\n",
    "    \n",
    "res = control_flow.compile_blocks()"
   ]
  },
  {
   "cell_type": "code",
   "execution_count": 41,
   "metadata": {},
   "outputs": [
    {
     "data": {
      "text/plain": [
       "<module 'semantic.translator' from 'semantic/translator.py'>"
      ]
     },
     "execution_count": 41,
     "metadata": {},
     "output_type": "execute_result"
    }
   ],
   "source": [
    "import semantic.translator as tr\n",
    "reload(tr)"
   ]
  },
  {
   "cell_type": "code",
   "execution_count": 42,
   "metadata": {
    "scrolled": false
   },
   "outputs": [
    {
     "name": "stdout",
     "output_type": "stream",
     "text": [
      "reg_0: .byte 0;reg_1: .byte 0;reg_2: .byte 0;reg_3: .byte 0;reg_4: .byte 0;reg_5: .byte 0;reg_6: .byte 0;reg_7: .byte 0;reg_8: .byte 0;reg_9: .byte 0;reg_10: .byte 0;reg_11: .byte 0;reg_12: .byte 0;reg_13: .byte 0;reg_14: .byte 0;reg_15: .byte 0;reg_16: .byte 0;reg_17: .byte 0;reg_18: .byte 0;reg_19: .byte 0;reg_20: .byte 0;reg_21: .byte 0;reg_22: .byte 0;reg_23: .byte 0;reg_24: .byte 0;reg_25: .byte 0;reg_26: .byte 0;reg_27: .byte 0;reg_28: .byte 0;reg_29: .byte 0;reg_30: .byte 0;reg_31: .byte 0;reg_32: .byte 0;reg_33: .byte 0;reg_34: .byte 0;reg_35: .byte 0;reg_36: .byte 0;reg_37: .byte 0;reg_38: .byte 0;reg_39: .byte 0;reg_40: .byte 0;reg_41: .byte 0;reg_42: .byte 0;reg_43: .byte 0;reg_44: .byte 0;reg_45: .byte 0;reg_46: .byte 0;reg_47: .byte 0;reg_48: .byte 0;reg_49: .byte 0;reg_50: .byte 0;reg_51: .byte 0;reg_52: .byte 0;reg_53: .byte 0;reg_54: .byte 0;reg_55: .byte 0;reg_56: .byte 0;reg_57: .byte 0;reg_58: .byte 0;reg_59: .byte 0;reg_60: .byte 0;reg_61: .byte 0;reg_62: .byte 0;reg_63: .byte 0;reg_64: .byte 0;reg_65: .byte 0;reg_66: .byte 0;reg_67: .byte 0;reg_68: .byte 0;reg_69: .byte 0;reg_70: .byte 0;reg_71: .byte 0;reg_72: .byte 0;reg_73: .byte 0;reg_74: .byte 0;reg_75: .byte 0;reg_76: .byte 0;reg_77: .byte 0;reg_78: .byte 0;reg_79: .byte 0;reg_80: .byte 0;reg_81: .byte 0;reg_82: .byte 0;reg_83: .byte 0;reg_84: .byte 0;reg_85: .byte 0;reg_86: .byte 0;reg_87: .byte 0;reg_88: .byte 0;reg_89: .byte 0;reg_90: .byte 0;reg_91: .byte 0;reg_92: .byte 0;reg_93: .byte 0;reg_94: .byte 0;reg_95: .byte 0;reg_96: .byte 0;reg_97: .byte 0;reg_98: .byte 0;reg_99: .byte 0;reg_100: .byte 0;reg_101: .byte 0;reg_102: .byte 0;reg_103: .byte 0;reg_104: .byte 0;reg_105: .byte 0;reg_106: .byte 0;reg_107: .byte 0;reg_108: .byte 0;reg_109: .byte 0;reg_110: .byte 0;reg_111: .byte 0;reg_112: .byte 0;reg_113: .byte 0;reg_114: .byte 0;reg_115: .byte 0;reg_116: .byte 0;reg_117: .byte 0;reg_118: .byte 0;reg_119: .byte 0;reg_120: .byte 0;reg_121: .byte 0;reg_122: .byte 0;reg_123: .byte 0;reg_124: .byte 0;reg_125: .byte 0;reg_126: .byte 0;reg_127: .byte 0;reg_128: .byte 0;reg_129: .byte 0;reg_130: .byte 0;reg_131: .byte 0;reg_132: .byte 0;reg_133: .byte 0;reg_134: .byte 0;reg_135: .byte 0;reg_136: .byte 0;reg_137: .byte 0;reg_138: .byte 0;reg_139: .byte 0;reg_140: .byte 0;reg_141: .byte 0;reg_142: .byte 0;reg_143: .byte 0;reg_144: .byte 0;reg_145: .byte 0;reg_146: .byte 0;reg_147: .byte 0;reg_148: .byte 0;reg_149: .byte 0;reg_150: .byte 0;reg_151: .byte 0;reg_152: .byte 0;reg_153: .byte 0;reg_154: .byte 0;reg_155: .byte 0;reg_156: .byte 0;reg_157: .byte 0;reg_158: .byte 0;reg_159: .byte 0;reg_160: .byte 0;reg_161: .byte 0;reg_162: .byte 0;reg_163: .byte 0;reg_164: .byte 0;reg_165: .byte 0;reg_166: .byte 0;reg_167: .byte 0;reg_168: .byte 0;reg_169: .byte 0;reg_170: .byte 0;reg_171: .byte 0;reg_172: .byte 0;reg_173: .byte 0;reg_174: .byte 0;reg_175: .byte 0;reg_176: .byte 0;reg_177: .byte 0;reg_178: .byte 0;reg_179: .byte 0;reg_180: .byte 0;reg_181: .byte 0;reg_182: .byte 0;reg_183: .byte 0;reg_184: .byte 0;reg_185: .byte 0;reg_186: .byte 0;reg_187: .byte 0;reg_188: .byte 0;reg_189: .byte 0;reg_190: .byte 0;reg_191: .byte 0;reg_192: .byte 0;reg_193: .byte 0;reg_194: .byte 0;reg_195: .byte 0;reg_196: .byte 0;reg_197: .byte 0;reg_198: .byte 0;reg_199: .byte 0; JMP 4240452_offset; 4240105_offset:; JMP 4235387_offset;4235387_offset:; ret;4240452_offset:; JMP 4235387_offset;4240273_offset:; JZ 4240452_offset; JMP 4240105_offset;\n"
     ]
    },
    {
     "data": {
      "text/plain": [
       "'0000000000000000000000000000000000000000000000000000000000000000000000000000000000000000000000000000000000000000000000000000000000000000000000000000000000000000000000000000000000000000000000000000000000000000000000000000000000000000000000000000000000000000000000000000000000000000000000000000000000000000000000000000000000000000000000000000000000000000000000000000000000000000000000000000000000000000c3'"
      ]
     },
     "execution_count": 42,
     "metadata": {},
     "output_type": "execute_result"
    }
   ],
   "source": [
    "\"\".join(map(lambda x: hex(ord(x))[2:].zfill(2),tr.translate_blocks(res)))"
   ]
  },
  {
   "cell_type": "code",
   "execution_count": 25,
   "metadata": {},
   "outputs": [
    {
     "data": {
      "text/plain": [
       "[4240105L, 4235387L, 4240452L, 4240273L]"
      ]
     },
     "execution_count": 25,
     "metadata": {},
     "output_type": "execute_result"
    }
   ],
   "source": [
    "res.keys()"
   ]
  },
  {
   "cell_type": "code",
   "execution_count": null,
   "metadata": {
    "collapsed": true
   },
   "outputs": [],
   "source": []
  }
 ],
 "metadata": {
  "kernelspec": {
   "display_name": "Python 2",
   "language": "python",
   "name": "python2"
  },
  "language_info": {
   "codemirror_mode": {
    "name": "ipython",
    "version": 2
   },
   "file_extension": ".py",
   "mimetype": "text/x-python",
   "name": "python",
   "nbconvert_exporter": "python",
   "pygments_lexer": "ipython2",
   "version": "2.7.14"
  }
 },
 "nbformat": 4,
 "nbformat_minor": 2
}
