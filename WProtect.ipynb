{
 "cells": [
  {
   "cell_type": "code",
   "execution_count": 4,
   "metadata": {},
   "outputs": [],
   "source": [
    "from vm.mnemonic import WProtectMnemonic\n",
    "from vm.analysis import PEAnalysis, WProtectEmulator, WProtectTracer\n",
    "import vm.obfuscation\n",
    "from vm.rule_generator import generate_rules\n",
    "from semantic.flow import WProtectControlFlow, UnknownInstructionError, PositionInstructionError"
   ]
  },
  {
   "cell_type": "code",
   "execution_count": 5,
   "metadata": {},
   "outputs": [
    {
     "name": "stderr",
     "output_type": "stream",
     "text": [
      "WARNING: warning null reldesc\n"
     ]
    },
    {
     "name": "stdout",
     "output_type": "stream",
     "text": [
      "[INFO]\tPE loaded\n",
      "[INFO]\treachable code analysis done\n"
     ]
    },
    {
     "name": "stderr",
     "output_type": "stream",
     "text": [
      "WARNING: not enough bytes in str\n",
      "WARNING: cannot disasm at 1A\n",
      "WARNING: not enough bytes in str\n",
      "WARNING: cannot disasm at 7\n"
     ]
    },
    {
     "name": "stdout",
     "output_type": "stream",
     "text": [
      "[INFO]\tWProtect vm mnemonics found at offset 0x40a99c\n"
     ]
    },
    {
     "name": "stderr",
     "output_type": "stream",
     "text": [
      "WARNING: not enough bytes in str\n",
      "WARNING: cannot disasm at 9\n",
      "WARNING: not enough bytes in str\n",
      "WARNING: cannot disasm at 11\n",
      "WARNING: not enough bytes in str\n",
      "WARNING: cannot disasm at 1A\n",
      "WARNING: not enough bytes in str\n",
      "WARNING: cannot disasm at 10\n",
      "WARNING: not enough bytes in str\n",
      "WARNING: cannot disasm at 0\n",
      "WARNING: not enough bytes in str\n",
      "WARNING: cannot disasm at 10\n",
      "WARNING: not enough bytes in str\n",
      "WARNING: cannot disasm at 7\n",
      "WARNING: not enough bytes in str\n",
      "WARNING: cannot disasm at 9\n",
      "WARNING: not enough bytes in str\n",
      "WARNING: cannot disasm at C\n",
      "WARNING: not enough bytes in str\n",
      "WARNING: cannot disasm at 2\n",
      "WARNING: not enough bytes in str\n",
      "WARNING: cannot disasm at 6\n",
      "WARNING: not enough bytes in str\n",
      "WARNING: cannot disasm at 15\n",
      "WARNING: not enough bytes in str\n",
      "WARNING: cannot disasm at 1\n",
      "WARNING: not enough bytes in str\n",
      "WARNING: cannot disasm at 3\n",
      "WARNING: not enough bytes in str\n",
      "WARNING: cannot disasm at 0\n",
      "WARNING: not enough bytes in str\n",
      "WARNING: cannot disasm at F\n",
      "WARNING: not enough bytes in str\n",
      "WARNING: cannot disasm at C\n",
      "WARNING: not enough bytes in str\n",
      "WARNING: cannot disasm at 17\n",
      "WARNING: not enough bytes in str\n",
      "WARNING: cannot disasm at 11\n",
      "WARNING: not enough bytes in str\n",
      "WARNING: cannot disasm at C\n",
      "WARNING: not enough bytes in str\n",
      "WARNING: cannot disasm at 14\n",
      "WARNING: not enough bytes in str\n",
      "WARNING: cannot disasm at 6\n",
      "WARNING: not enough bytes in str\n",
      "WARNING: cannot disasm at 11\n",
      "WARNING: not enough bytes in str\n",
      "WARNING: cannot disasm at F\n",
      "WARNING: not enough bytes in str\n",
      "WARNING: cannot disasm at 11\n",
      "WARNING: not enough bytes in str\n",
      "WARNING: cannot disasm at 5\n",
      "WARNING: not enough bytes in str\n",
      "WARNING: cannot disasm at 0\n",
      "WARNING: not enough bytes in str\n",
      "WARNING: cannot disasm at 4\n",
      "WARNING: not enough bytes in str\n",
      "WARNING: cannot disasm at 3\n",
      "WARNING: not enough bytes in str\n",
      "WARNING: cannot disasm at 4\n",
      "WARNING: not enough bytes in str\n",
      "WARNING: cannot disasm at 17\n",
      "WARNING: not enough bytes in str\n",
      "WARNING: cannot disasm at 0\n",
      "WARNING: not enough bytes in str\n",
      "WARNING: cannot disasm at 4\n",
      "WARNING: not enough bytes in str\n",
      "WARNING: cannot disasm at 13\n",
      "WARNING: not enough bytes in str\n",
      "WARNING: cannot disasm at D\n",
      "WARNING: not enough bytes in str\n",
      "WARNING: cannot disasm at F\n",
      "WARNING: not enough bytes in str\n",
      "WARNING: cannot disasm at F\n",
      "WARNING: not enough bytes in str\n",
      "WARNING: cannot disasm at 0\n",
      "WARNING: not enough bytes in str\n",
      "WARNING: cannot disasm at D\n",
      "WARNING: not enough bytes in str\n",
      "WARNING: cannot disasm at 3\n",
      "WARNING: not enough bytes in str\n",
      "WARNING: cannot disasm at 15\n",
      "WARNING: not enough bytes in str\n",
      "WARNING: cannot disasm at 5\n",
      "WARNING: not enough bytes in str\n",
      "WARNING: cannot disasm at F\n",
      "WARNING: not enough bytes in str\n",
      "WARNING: cannot disasm at 12\n",
      "WARNING: not enough bytes in str\n",
      "WARNING: cannot disasm at 9\n",
      "WARNING: not enough bytes in str\n",
      "WARNING: cannot disasm at 9\n",
      "WARNING: not enough bytes in str\n",
      "WARNING: cannot disasm at 10\n",
      "WARNING: not enough bytes in str\n",
      "WARNING: cannot disasm at 8\n",
      "WARNING: not enough bytes in str\n",
      "WARNING: cannot disasm at E\n",
      "WARNING: not enough bytes in str\n",
      "WARNING: cannot disasm at 3\n",
      "WARNING: not enough bytes in str\n",
      "WARNING: cannot disasm at 7\n",
      "WARNING: not enough bytes in str\n",
      "WARNING: cannot disasm at 0\n",
      "WARNING: not enough bytes in str\n",
      "WARNING: cannot disasm at E\n",
      "WARNING: not enough bytes in str\n",
      "WARNING: cannot disasm at 14\n",
      "WARNING: not enough bytes in str\n",
      "WARNING: cannot disasm at A\n",
      "WARNING: not enough bytes in str\n",
      "WARNING: cannot disasm at 14\n",
      "WARNING: not enough bytes in str\n",
      "WARNING: cannot disasm at F\n",
      "WARNING: not enough bytes in str\n",
      "WARNING: cannot disasm at 2\n",
      "WARNING: not enough bytes in str\n",
      "WARNING: cannot disasm at 10\n",
      "WARNING: not enough bytes in str\n",
      "WARNING: cannot disasm at 4\n",
      "WARNING: not enough bytes in str\n",
      "WARNING: cannot disasm at 0\n",
      "WARNING: not enough bytes in str\n",
      "WARNING: cannot disasm at 18\n",
      "WARNING: not enough bytes in str\n",
      "WARNING: cannot disasm at 0\n",
      "WARNING: not enough bytes in str\n",
      "WARNING: cannot disasm at 4\n",
      "WARNING: not enough bytes in str\n",
      "WARNING: cannot disasm at 18\n",
      "WARNING: not enough bytes in str\n",
      "WARNING: cannot disasm at 16\n",
      "WARNING: not enough bytes in str\n",
      "WARNING: cannot disasm at 13\n",
      "WARNING: not enough bytes in str\n",
      "WARNING: cannot disasm at 10\n",
      "WARNING: not enough bytes in str\n",
      "WARNING: cannot disasm at D\n",
      "WARNING: not enough bytes in str\n",
      "WARNING: cannot disasm at 0\n",
      "WARNING: not enough bytes in str\n",
      "WARNING: cannot disasm at B\n",
      "WARNING: not enough bytes in str\n",
      "WARNING: cannot disasm at 12\n",
      "WARNING: not enough bytes in str\n",
      "WARNING: cannot disasm at F\n",
      "WARNING: not enough bytes in str\n",
      "WARNING: cannot disasm at 10\n",
      "WARNING: not enough bytes in str\n",
      "WARNING: cannot disasm at 1E\n"
     ]
    },
    {
     "name": "stdout",
     "output_type": "stream",
     "text": [
      "[INFO]\tMnemonics loaded\n"
     ]
    }
   ],
   "source": [
    "center2 = WProtectEmulator(\"if_better/if.wp.exe\")\n",
    "center2.find()\n",
    "center = center2.recover_mnemonics(center2.offset, WProtectMnemonic)[1]\n",
    "WProtectMnemonic.consolidate_names(center)"
   ]
  },
  {
   "cell_type": "code",
   "execution_count": 8,
   "metadata": {
    "scrolled": false
   },
   "outputs": [
    {
     "name": "stdout",
     "output_type": "stream",
     "text": [
      "Offset 0x40a1bc already contains\r\n",
      " {'instruction': <vm.mnemonic.WProtectMnemonic object at 0x7fe29c26d0d0>, 'params': [3], 'predecessors': 2, 'successors': [4235706]},\r\n",
      " provided {'instruction': 'd_push_reg', 'params': [3]}\n"
     ]
    },
    {
     "data": {
      "image/png": "[encoded data removed]",
      "text/plain": [
       "<Figure size 432x288 with 1 Axes>"
      ]
     },
     "metadata": {},
     "output_type": "display_data"
    }
   ],
   "source": [
    "def printer(offset, instruction, args, off):\n",
    "    t.add_node(offset, instruction, args, off)\n",
    "    #print \"%s\\t%s\\t%s\" % (hex(offset), map(hex, off),instruction.name)\n",
    "\n",
    "t = WProtectControlFlow(center)\n",
    "instance = WProtectTracer(center2, center)\n",
    "\n",
    "machine = [instance]\n",
    "index = 0\n",
    "while index < len(machine):\n",
    "    try:\n",
    "        tmp = machine[index].step(printer)\n",
    "        machine += tmp\n",
    "    except PositionInstructionError as err:\n",
    "        print err\n",
    "    index += 1\n",
    "\n",
    "import networkx as nx\n",
    "import matplotlib.pyplot as plt\n",
    "    \n",
    "nx.draw(t.get_simple_control_flow(), node_size=12)\n",
    "plt.show()"
   ]
  },
  {
   "cell_type": "code",
   "execution_count": 9,
   "metadata": {
    "scrolled": false
   },
   "outputs": [],
   "source": [
    "out = {}\n",
    "compiled = t.compile_blocks(out)"
   ]
  },
  {
   "cell_type": "code",
   "execution_count": 10,
   "metadata": {
    "scrolled": false
   },
   "outputs": [
    {
     "data": {
      "text/plain": [
       "[4240010, 4235708, 4240429, 4240206L]"
      ]
     },
     "execution_count": 10,
     "metadata": {},
     "output_type": "execute_result"
    }
   ],
   "source": [
    "compiled.keys()"
   ]
  },
  {
   "cell_type": "code",
   "execution_count": null,
   "metadata": {
    "collapsed": true
   },
   "outputs": [],
   "source": []
  }
 ],
 "metadata": {
  "kernelspec": {
   "display_name": "Python 2",
   "language": "python2.7",
   "name": "python2"
  },
  "language_info": {
   "codemirror_mode": {
    "name": "ipython",
    "version": 2
   },
   "file_extension": ".py",
   "mimetype": "text/x-python",
   "name": "python",
   "nbconvert_exporter": "python",
   "pygments_lexer": "ipython2",
   "version": "2.7.14"
  }
 },
 "nbformat": 4,
 "nbformat_minor": 2
}
