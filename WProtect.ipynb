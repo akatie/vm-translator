{
 "cells": [
  {
   "cell_type": "code",
   "execution_count": 1,
   "metadata": {
    "collapsed": true
   },
   "outputs": [],
   "source": [
    "from vm.mnemonic import WProtectMnemonic\n",
    "from vm.analysis import PEAnalysis, WProtectEmulator, WProtectTracer\n",
    "import vm.obfuscation\n",
    "from vm.rule_generator import generate_rules"
   ]
  },
  {
   "cell_type": "code",
   "execution_count": 2,
   "metadata": {
    "collapsed": true
   },
   "outputs": [],
   "source": [
    "#center2 = WProtectEmulator(\"if/inceax.wp.exe\")\n",
    "#center2.find()\n",
    "#center = center2.recover_mnemonics(center2.offset, WProtectMnemonic)[1]\n",
    "#WProtectMnemonic.consolidate_names(center)\n",
    "#generate_rules(center)"
   ]
  },
  {
   "cell_type": "code",
   "execution_count": 3,
   "metadata": {},
   "outputs": [
    {
     "name": "stderr",
     "output_type": "stream",
     "text": [
      "WARNING: warning null reldesc\n"
     ]
    },
    {
     "name": "stdout",
     "output_type": "stream",
     "text": [
      "[INFO]\tPE loaded\n",
      "[INFO]\treachable code analysis done\n"
     ]
    },
    {
     "name": "stderr",
     "output_type": "stream",
     "text": [
      "WARNING: not enough bytes in str\n",
      "WARNING: cannot disasm at 1A\n",
      "WARNING: not enough bytes in str\n",
      "WARNING: cannot disasm at 7\n"
     ]
    },
    {
     "name": "stdout",
     "output_type": "stream",
     "text": [
      "[INFO]\tWProtect vm mnemonics found at offset 0x40a99c\n"
     ]
    },
    {
     "name": "stderr",
     "output_type": "stream",
     "text": [
      "WARNING: not enough bytes in str\n",
      "WARNING: cannot disasm at 9\n",
      "WARNING: not enough bytes in str\n",
      "WARNING: cannot disasm at 11\n",
      "WARNING: not enough bytes in str\n",
      "WARNING: cannot disasm at 1A\n",
      "WARNING: not enough bytes in str\n",
      "WARNING: cannot disasm at 10\n",
      "WARNING: not enough bytes in str\n",
      "WARNING: cannot disasm at 0\n",
      "WARNING: not enough bytes in str\n",
      "WARNING: cannot disasm at 10\n",
      "WARNING: not enough bytes in str\n",
      "WARNING: cannot disasm at 7\n",
      "WARNING: not enough bytes in str\n",
      "WARNING: cannot disasm at 9\n",
      "WARNING: not enough bytes in str\n",
      "WARNING: cannot disasm at C\n",
      "WARNING: not enough bytes in str\n",
      "WARNING: cannot disasm at 2\n",
      "WARNING: not enough bytes in str\n",
      "WARNING: cannot disasm at 6\n",
      "WARNING: not enough bytes in str\n",
      "WARNING: cannot disasm at 15\n",
      "WARNING: not enough bytes in str\n",
      "WARNING: cannot disasm at 1\n",
      "WARNING: not enough bytes in str\n",
      "WARNING: cannot disasm at 3\n",
      "WARNING: not enough bytes in str\n",
      "WARNING: cannot disasm at 0\n",
      "WARNING: not enough bytes in str\n",
      "WARNING: cannot disasm at F\n",
      "WARNING: not enough bytes in str\n",
      "WARNING: cannot disasm at C\n",
      "WARNING: not enough bytes in str\n",
      "WARNING: cannot disasm at 17\n",
      "WARNING: not enough bytes in str\n",
      "WARNING: cannot disasm at 11\n",
      "WARNING: not enough bytes in str\n",
      "WARNING: cannot disasm at C\n",
      "WARNING: not enough bytes in str\n",
      "WARNING: cannot disasm at 14\n",
      "WARNING: not enough bytes in str\n",
      "WARNING: cannot disasm at 6\n",
      "WARNING: not enough bytes in str\n",
      "WARNING: cannot disasm at 11\n",
      "WARNING: not enough bytes in str\n",
      "WARNING: cannot disasm at F\n",
      "WARNING: not enough bytes in str\n",
      "WARNING: cannot disasm at 11\n",
      "WARNING: not enough bytes in str\n",
      "WARNING: cannot disasm at 5\n",
      "WARNING: not enough bytes in str\n",
      "WARNING: cannot disasm at 0\n",
      "WARNING: not enough bytes in str\n",
      "WARNING: cannot disasm at 4\n",
      "WARNING: not enough bytes in str\n",
      "WARNING: cannot disasm at 3\n",
      "WARNING: not enough bytes in str\n",
      "WARNING: cannot disasm at 4\n",
      "WARNING: not enough bytes in str\n",
      "WARNING: cannot disasm at 17\n",
      "WARNING: not enough bytes in str\n",
      "WARNING: cannot disasm at 0\n",
      "WARNING: not enough bytes in str\n",
      "WARNING: cannot disasm at 4\n",
      "WARNING: not enough bytes in str\n",
      "WARNING: cannot disasm at 13\n",
      "WARNING: not enough bytes in str\n",
      "WARNING: cannot disasm at D\n",
      "WARNING: not enough bytes in str\n",
      "WARNING: cannot disasm at F\n",
      "WARNING: not enough bytes in str\n",
      "WARNING: cannot disasm at F\n",
      "WARNING: not enough bytes in str\n",
      "WARNING: cannot disasm at 0\n",
      "WARNING: not enough bytes in str\n",
      "WARNING: cannot disasm at D\n",
      "WARNING: not enough bytes in str\n",
      "WARNING: cannot disasm at 3\n",
      "WARNING: not enough bytes in str\n",
      "WARNING: cannot disasm at 15\n",
      "WARNING: not enough bytes in str\n",
      "WARNING: cannot disasm at 5\n",
      "WARNING: not enough bytes in str\n",
      "WARNING: cannot disasm at F\n",
      "WARNING: not enough bytes in str\n",
      "WARNING: cannot disasm at 12\n",
      "WARNING: not enough bytes in str\n",
      "WARNING: cannot disasm at 9\n",
      "WARNING: not enough bytes in str\n",
      "WARNING: cannot disasm at 9\n",
      "WARNING: not enough bytes in str\n",
      "WARNING: cannot disasm at 10\n",
      "WARNING: not enough bytes in str\n",
      "WARNING: cannot disasm at 8\n",
      "WARNING: not enough bytes in str\n",
      "WARNING: cannot disasm at E\n",
      "WARNING: not enough bytes in str\n",
      "WARNING: cannot disasm at 3\n",
      "WARNING: not enough bytes in str\n",
      "WARNING: cannot disasm at 7\n",
      "WARNING: not enough bytes in str\n",
      "WARNING: cannot disasm at 0\n",
      "WARNING: not enough bytes in str\n",
      "WARNING: cannot disasm at E\n",
      "WARNING: not enough bytes in str\n",
      "WARNING: cannot disasm at 14\n",
      "WARNING: not enough bytes in str\n",
      "WARNING: cannot disasm at A\n",
      "WARNING: not enough bytes in str\n",
      "WARNING: cannot disasm at 14\n",
      "WARNING: not enough bytes in str\n",
      "WARNING: cannot disasm at F\n",
      "WARNING: not enough bytes in str\n",
      "WARNING: cannot disasm at 2\n",
      "WARNING: not enough bytes in str\n",
      "WARNING: cannot disasm at 10\n",
      "WARNING: not enough bytes in str\n",
      "WARNING: cannot disasm at 4\n",
      "WARNING: not enough bytes in str\n",
      "WARNING: cannot disasm at 0\n",
      "WARNING: not enough bytes in str\n",
      "WARNING: cannot disasm at 18\n",
      "WARNING: not enough bytes in str\n",
      "WARNING: cannot disasm at 0\n",
      "WARNING: not enough bytes in str\n",
      "WARNING: cannot disasm at 4\n",
      "WARNING: not enough bytes in str\n",
      "WARNING: cannot disasm at 18\n",
      "WARNING: not enough bytes in str\n",
      "WARNING: cannot disasm at 16\n",
      "WARNING: not enough bytes in str\n",
      "WARNING: cannot disasm at 13\n",
      "WARNING: not enough bytes in str\n",
      "WARNING: cannot disasm at 10\n",
      "WARNING: not enough bytes in str\n",
      "WARNING: cannot disasm at D\n",
      "WARNING: not enough bytes in str\n",
      "WARNING: cannot disasm at 0\n",
      "WARNING: not enough bytes in str\n",
      "WARNING: cannot disasm at B\n",
      "WARNING: not enough bytes in str\n",
      "WARNING: cannot disasm at 12\n",
      "WARNING: not enough bytes in str\n",
      "WARNING: cannot disasm at F\n",
      "WARNING: not enough bytes in str\n",
      "WARNING: cannot disasm at 10\n",
      "WARNING: not enough bytes in str\n",
      "WARNING: cannot disasm at 1E\n"
     ]
    },
    {
     "name": "stdout",
     "output_type": "stream",
     "text": [
      "[INFO]\tMnemonics loaded\n"
     ]
    }
   ],
   "source": [
    "center2 = WProtectEmulator(\"if_better/if.wp.exe\")\n",
    "center2.find()\n",
    "center = center2.recover_mnemonics(center2.offset, WProtectMnemonic)[1]\n",
    "WProtectMnemonic.consolidate_names(center)"
   ]
  },
  {
   "cell_type": "code",
   "execution_count": 4,
   "metadata": {
    "scrolled": true
   },
   "outputs": [
    {
     "name": "stdout",
     "output_type": "stream",
     "text": [
      "[1]\n",
      "[-82]\n",
      "[-50]\n",
      "[-35]\n",
      "[-36]\n",
      "[105]\n",
      "[-99]\n",
      "[-127]\n",
      "[124]\n",
      "[1]\n",
      "[23]\n",
      "[-127]\n",
      "[]\n",
      "[38]\n",
      "[]\n",
      "[]\n",
      "[]\n",
      "[]\n",
      "[0]\n",
      "[]\n",
      "[-120]\n",
      "[]\n",
      "[]\n",
      "[]\n",
      "[106]\n",
      "[59]\n",
      "[]\n",
      "[]\n",
      "[]\n",
      "[89]\n",
      "[63829]\n",
      "[]\n",
      "[-73]\n",
      "[-1]\n",
      "[]\n",
      "[]\n",
      "[]\n",
      "[121]\n",
      "[16135]\n",
      "[]\n",
      "[-56]\n",
      "[]\n",
      "[-75]\n",
      "[98]\n",
      "[34]\n",
      "[4240430]\n",
      "[4240011]\n",
      "[60]\n",
      "[35]\n",
      "[67]\n",
      "[79]\n",
      "[]\n",
      "[75]\n",
      "[64]\n",
      "[89]\n",
      "[]\n",
      "[]\n",
      "[]\n",
      "[68]\n",
      "[59]\n",
      "[]\n",
      "[]\n",
      "[]\n",
      "[76]\n",
      "[]\n",
      "[18]\n",
      "[103]\n",
      "[]\n",
      "[12]\n",
      "[]\n",
      "[-123]\n",
      "[]\n",
      "[-65]\n",
      "[-34]\n",
      "[-26]\n",
      "[91]\n",
      "[39]\n",
      "[7]\n",
      "[83]\n",
      "[27]\n",
      "[19]\n",
      "[3]\n",
      "[23]\n",
      "[75]\n",
      "[67]\n",
      "[305419896]\n",
      "[]\n"
     ]
    }
   ],
   "source": [
    "def a(ab):\n",
    "    print ab\n",
    "\n",
    "instance = WProtectTracer(center2, center)\n",
    "machine = instance\n",
    "while isinstance(machine, WProtectTracer):\n",
    "    machine = machine.step(lambda x,y,z: a(z))"
   ]
  },
  {
   "cell_type": "code",
   "execution_count": 5,
   "metadata": {
    "collapsed": true,
    "scrolled": true
   },
   "outputs": [],
   "source": [
    "machine2 = machine[1]\n",
    "while isinstance(machine2, WProtectTracer):\n",
    "    machine2 = machine2.step()"
   ]
  },
  {
   "cell_type": "code",
   "execution_count": 6,
   "metadata": {
    "collapsed": true
   },
   "outputs": [],
   "source": [
    "machine3 = machine[0]\n",
    "while isinstance(machine3, WProtectTracer):\n",
    "    machine3 = machine3.step()"
   ]
  },
  {
   "cell_type": "code",
   "execution_count": null,
   "metadata": {
    "collapsed": true
   },
   "outputs": [],
   "source": []
  }
 ],
 "metadata": {
  "kernelspec": {
   "display_name": "Python 2",
   "language": "python2.7",
   "name": "python2"
  },
  "language_info": {
   "codemirror_mode": {
    "name": "ipython",
    "version": 2
   },
   "file_extension": ".py",
   "mimetype": "text/x-python",
   "name": "python",
   "nbconvert_exporter": "python",
   "pygments_lexer": "ipython2",
   "version": "2.7.14"
  }
 },
 "nbformat": 4,
 "nbformat_minor": 2
}
