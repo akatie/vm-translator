{
 "cells": [
  {
   "cell_type": "code",
   "execution_count": 1,
   "metadata": {
    "collapsed": true
   },
   "outputs": [],
   "source": [
    "#from vm_analysis import PEAnalysis, Mnemonic, WProtectEmulator\n",
    "from miasm2.core.utils import upck32\n",
    "import yara\n",
    "import Levenshtein\n",
    "from jinja2 import Template"
   ]
  },
  {
   "cell_type": "code",
   "execution_count": 2,
   "metadata": {},
   "outputs": [],
   "source": [
    "from vm.mnemonic import WProtectMnemonic\n",
    "from vm.analysis import PEAnalysis, WProtectEmulator\n",
    "from vm.obfuscation import get_bytes, strip_vm_obfuscation\n",
    "from vm.rule_generator import generate_rules"
   ]
  },
  {
   "cell_type": "code",
   "execution_count": 5,
   "metadata": {
    "scrolled": true
   },
   "outputs": [
    {
     "name": "stdout",
     "output_type": "stream",
     "text": [
      "[INFO]\tPE loaded\n",
      "[INFO]\tPE loaded\n",
      "[INFO]\tPE loaded\n",
      "[INFO]\tPE loaded\n",
      "[INFO]\tPE loaded\n",
      "[INFO]\tPE loaded\n",
      "[INFO]\tPE loaded\n",
      "[INFO]\tPE loaded\n",
      "[INFO]\tPE loaded\n",
      "[INFO]\tPE loaded\n",
      "[INFO]\treachable code analysis done\n",
      "[INFO]\tWProtect vm mnemonics found at offset 0x40a99d\n",
      "[INFO]\treachable code analysis done\n",
      "[INFO]\tWProtect vm mnemonics found at offset 0x40a96e\n",
      "[INFO]\treachable code analysis done\n",
      "[INFO]\tWProtect vm mnemonics found at offset 0x40a93e\n",
      "[INFO]\treachable code analysis done\n",
      "[INFO]\tWProtect vm mnemonics found at offset 0x40a98c\n",
      "[INFO]\treachable code analysis done\n",
      "[INFO]\tWProtect vm mnemonics found at offset 0x40a942\n",
      "[INFO]\treachable code analysis done\n",
      "[INFO]\tWProtect vm mnemonics found at offset 0x40a9b2\n",
      "[INFO]\treachable code analysis done\n",
      "[INFO]\tWProtect vm mnemonics found at offset 0x40a9d5\n",
      "[INFO]\treachable code analysis done\n",
      "[INFO]\tWProtect vm mnemonics found at offset 0x40a97c\n",
      "[INFO]\treachable code analysis done\n",
      "[INFO]\tWProtect vm mnemonics found at offset 0x40a961\n",
      "[INFO]\treachable code analysis done\n",
      "[INFO]\tWProtect vm mnemonics found at offset 0x40a9d9\n",
      "[INFO]\tMnemonics loaded\n",
      "[INFO]\tMnemonics loaded\n",
      "[INFO]\tMnemonics loaded\n",
      "[INFO]\tMnemonics loaded\n",
      "[INFO]\tMnemonics loaded\n",
      "[INFO]\tMnemonics loaded\n",
      "[INFO]\tMnemonics loaded\n",
      "[INFO]\tMnemonics loaded\n",
      "[INFO]\tMnemonics loaded\n",
      "[INFO]\tMnemonics loaded\n",
      "[INFO]\tPE loaded\n",
      "[INFO]\treachable code analysis done\n",
      "[INFO]\tWProtect vm mnemonics found at offset 0x40b9d1\n",
      "[INFO]\tMnemonics loaded\n"
     ]
    }
   ],
   "source": [
    "%%capture\n",
    "\n",
    "import os\n",
    "\n",
    "dataz = map(lambda x: WProtectEmulator(\"train_batch/\" + x), filter(lambda x: \"inceax.wp\" in x, os.listdir(\"train_batch/\")))\n",
    "map(lambda x: x.find(), dataz)\n",
    "dataz = map(lambda x: x.recover_mnemonics(x.offset, WProtectMnemonic)[1], dataz)\n",
    "center = WProtectEmulator(\"helloWProtect.wp.exe\")\n",
    "center.find()\n",
    "center = center.recover_mnemonics(center.offset, WProtectMnemonic)[1]"
   ]
  },
  {
   "cell_type": "code",
   "execution_count": 5,
   "metadata": {},
   "outputs": [],
   "source": [
    "def match_mnemonics(mnemonic, mnemonic_sets):\n",
    "    def hexify(bytecode):\n",
    "        return \"\".join(map(lambda x: \"%.2X\" % ord(x), list(\"\".join(bytecode))))\n",
    "    matches = []\n",
    "    for mn_set in mnemonic_sets:\n",
    "        distances = map(lambda x: Levenshtein.distance(hexify(get_bytes(strip_vm_obfuscation(mnemonic.code))),\n",
    "                                                       hexify(get_bytes(strip_vm_obfuscation(x.code)))),\n",
    "                        mn_set)\n",
    "        matches.append(mn_set[distances.index(min(distances))])\n",
    "    return matches\n",
    "\n",
    "batches = []\n",
    "for mnemonic in center:\n",
    "    batches.append(match_mnemonics(mnemonic, dataz))"
   ]
  },
  {
   "cell_type": "code",
   "execution_count": 6,
   "metadata": {},
   "outputs": [],
   "source": [
    "generate_rules(center)"
   ]
  },
  {
   "cell_type": "code",
   "execution_count": 3,
   "metadata": {},
   "outputs": [
    {
     "name": "stderr",
     "output_type": "stream",
     "text": [
      "WARNING: warning null reldesc\n"
     ]
    },
    {
     "name": "stdout",
     "output_type": "stream",
     "text": [
      "[INFO]\tPE loaded\n",
      "[INFO]\treachable code analysis done\n",
      "[INFO]\tWProtect vm mnemonics found at offset 0x40b9d1\n",
      "[INFO]\tMnemonics loaded\n"
     ]
    }
   ],
   "source": [
    "center = WProtectEmulator(\"helloWProtect.wp.exe\")\n",
    "center.find()\n",
    "center = center.recover_mnemonics(center.offset, WProtectMnemonic)[1]"
   ]
  },
  {
   "cell_type": "code",
   "execution_count": 4,
   "metadata": {},
   "outputs": [],
   "source": [
    "WProtectMnemonic.consolidate_names(center)"
   ]
  },
  {
   "cell_type": "code",
   "execution_count": 5,
   "metadata": {},
   "outputs": [
    {
     "data": {
      "text/plain": [
       "['mnemonic_0',\n",
       " 'mnemonic_1',\n",
       " 'mnemonic_2',\n",
       " 'mnemonic_3',\n",
       " 'mnemonic_4',\n",
       " 'mnemonic_5',\n",
       " 'mnemonic_6',\n",
       " 'mnemonic_7',\n",
       " 'mnemonic_8',\n",
       " 'mnemonic_9',\n",
       " 'mnemonic_10',\n",
       " 'mnemonic_11',\n",
       " 'mnemonic_12',\n",
       " 'mnemonic_13',\n",
       " 'mnemonic_14',\n",
       " 'mnemonic_15',\n",
       " 'mnemonic_16',\n",
       " 'mnemonic_17',\n",
       " 'mnemonic_18',\n",
       " 'mnemonic_19',\n",
       " 'mnemonic_20',\n",
       " 'mnemonic_21',\n",
       " 'mnemonic_22',\n",
       " 'mnemonic_23',\n",
       " 'mnemonic_24',\n",
       " 'mnemonic_25',\n",
       " 'mnemonic_26',\n",
       " 'mnemonic_27',\n",
       " 'mnemonic_28',\n",
       " 'mnemonic_29',\n",
       " 'mnemonic_30',\n",
       " 'mnemonic_31',\n",
       " 'mnemonic_32',\n",
       " 'nop',\n",
       " 'mnemonic_34',\n",
       " 'mnemonic_35',\n",
       " 'mnemonic_36',\n",
       " 'mnemonic_37',\n",
       " 'mnemonic_38',\n",
       " 'mnemonic_39',\n",
       " 'mnemonic_40',\n",
       " 'mnemonic_41',\n",
       " 'mnemonic_42',\n",
       " 'mnemonic_43',\n",
       " 'mnemonic_44',\n",
       " 'mnemonic_45',\n",
       " 'mnemonic_46',\n",
       " 'mnemonic_47',\n",
       " 'mnemonic_48',\n",
       " 'mnemonic_49',\n",
       " 'mnemonic_50',\n",
       " 'mnemonic_51',\n",
       " 'mnemonic_52',\n",
       " 'mnemonic_53',\n",
       " 'mnemonic_54',\n",
       " 'mnemonic_55']"
      ]
     },
     "execution_count": 5,
     "metadata": {},
     "output_type": "execute_result"
    }
   ],
   "source": [
    "map(lambda x: x.name, center)"
   ]
  },
  {
   "cell_type": "code",
   "execution_count": 14,
   "metadata": {},
   "outputs": [
    {
     "data": {
      "text/plain": [
       "[['0x66', '0x43'],\n",
       " ['0xc1', '0xc3', '0xd'],\n",
       " ['0x66', '0xf7', '0xd3'],\n",
       " ['0xf7', '0xd3'],\n",
       " ['0x66', '0xf7', '0xd3'],\n",
       " ['0x66', '0xc1', '0xc3', '0x1b'],\n",
       " ['0x4b'],\n",
       " ['0x66', '0x8b', '0x46', '0xfe'],\n",
       " ['0x83', '0xee', '0x2'],\n",
       " ['0x66', '0x5', '0x1d', '0x39'],\n",
       " ['0x66', '0xc1', '0xc8', '0x15'],\n",
       " ['0x66', '0x40'],\n",
       " ['0x66', '0x2b', '0xc3'],\n",
       " ['0x66', '0xc1', '0xc0', '0x10'],\n",
       " ['0x66', '0xc1', '0xc0', '0x17'],\n",
       " ['0x66', '0x48'],\n",
       " ['0xf', '0xbf', '0xc0'],\n",
       " ['0x83', '0xed', '0x4'],\n",
       " ['0x89', '0x45', '0x0'],\n",
       " ['0xe9', '0xda', '0xfa', '0xff', '0xff']]"
      ]
     },
     "execution_count": 14,
     "metadata": {},
     "output_type": "execute_result"
    }
   ],
   "source": [
    "[map(lambda y: hex(ord(y)), list(x.b)) for x in center[53].code]"
   ]
  },
  {
   "cell_type": "code",
   "execution_count": 15,
   "metadata": {},
   "outputs": [],
   "source": [
    "ruleset = yara.compile(\"mnemonics.yara\")"
   ]
  },
  {
   "cell_type": "code",
   "execution_count": 16,
   "metadata": {},
   "outputs": [
    {
     "data": {
      "text/plain": [
       "[nop, mnemonic_53]"
      ]
     },
     "execution_count": 16,
     "metadata": {},
     "output_type": "execute_result"
    }
   ],
   "source": [
    "ruleset.match(data=\"\".join([x.b for x in center[53].code]))"
   ]
  },
  {
   "cell_type": "code",
   "execution_count": null,
   "metadata": {
    "collapsed": true
   },
   "outputs": [],
   "source": []
  }
 ],
 "metadata": {
  "kernelspec": {
   "display_name": "Python 2",
   "language": "python2.7",
   "name": "python2"
  },
  "language_info": {
   "codemirror_mode": {
    "name": "ipython",
    "version": 2
   },
   "file_extension": ".py",
   "mimetype": "text/x-python",
   "name": "python",
   "nbconvert_exporter": "python",
   "pygments_lexer": "ipython2",
   "version": "2.7.14"
  }
 },
 "nbformat": 4,
 "nbformat_minor": 2
}
