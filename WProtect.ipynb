{
 "cells": [
  {
   "cell_type": "code",
   "execution_count": 1,
   "metadata": {
    "collapsed": false,
    "deletable": true,
    "editable": true
   },
   "outputs": [],
   "source": [
    "from vm_analysis import WProtectEmulator, Mnemonic"
   ]
  },
  {
   "cell_type": "code",
   "execution_count": 2,
   "metadata": {
    "collapsed": false,
    "deletable": true,
    "editable": true
   },
   "outputs": [],
   "source": [
    "class WProtectMnemonic(Mnemonic):\n",
    "    def __init__(self, code):\n",
    "        super(WProtectMnemonic, self).__init__(code)\n",
    "        self._logger.debug(\"Mnemonic recognized as: \" + self.name)\n",
    "\n",
    "    @staticmethod\n",
    "    def externalCall(code):\n",
    "        if len(code) < 10:\n",
    "            return None\n",
    "        check = True\n",
    "\n",
    "        check = check and code[-1].name == \"RET\"\n",
    "        check = check and code[-2].name == \"POPFD\"\n",
    "        for i in xrange(3, 10):\n",
    "            check = check and str(code[-i].args[0]) in [\"EAX\", \"ECX\", \"EDX\", \"EBX\", \"EBP\", \"ESI\", \"EDI\"]\n",
    "            check = check and code[-i].name == \"POP\"\n",
    "        check = check and code[-10].name == \"MOV\"\n",
    "        check = check and str(code[-10].args[1]) == \"EBP\" and str(code[-10].args[0]) == \"ESP\"\n",
    "        if check:\n",
    "            return \"EXT\"\n",
    "        else:\n",
    "            return None\n",
    "        \n",
    "    @staticmethod\n",
    "    def recognize(code):\n",
    "        filters = [WProtectMnemonic.externalCall]\n",
    "        opcode = filter(None, map(lambda x: x(code), filters))\n",
    "        if opcode:\n",
    "            if len(opcode) == 1:\n",
    "                return opcode[0]\n",
    "            return str(opcode)\n",
    "        return \"UNK\""
   ]
  },
  {
   "cell_type": "code",
   "execution_count": 3,
   "metadata": {
    "collapsed": false,
    "deletable": true,
    "editable": true
   },
   "outputs": [
    {
     "name": "stderr",
     "output_type": "stream",
     "text": [
      "WARNING: warning null reldesc\n"
     ]
    },
    {
     "name": "stdout",
     "output_type": "stream",
     "text": [
      "[INFO]\tPE loaded\n",
      "[INFO]\treachable code analysis done\n",
      "[INFO]\tWProtect vm mnemonics found at offset 0x40b9d1\n"
     ]
    }
   ],
   "source": [
    "pe2 = WProtectEmulator(\"helloWProtect.wp.exe\",verbose=False)\n",
    "pe2.find()"
   ]
  },
  {
   "cell_type": "code",
   "execution_count": 4,
   "metadata": {
    "collapsed": false
   },
   "outputs": [
    {
     "name": "stdout",
     "output_type": "stream",
     "text": [
      "[INFO]\tMnemonics loaded\n"
     ]
    }
   ],
   "source": [
    "magic_dword, mnemonics = pe2.recoverMnemonics(pe2.vm_offset[0], WProtectMnemonic)"
   ]
  },
  {
   "cell_type": "code",
   "execution_count": 80,
   "metadata": {
    "collapsed": true,
    "deletable": true,
    "editable": true
   },
   "outputs": [],
   "source": [
    "from miasm2.analysis.machine import Machine\n",
    "from miasm2.ir.symbexec import SymbolicExecutionEngine\n",
    "from miasm2.expression.expression import ExprId\n",
    "from miasm2.core.bin_stream import bin_stream_str\n",
    "from miasm2.ir.translators.python import TranslatorPython"
   ]
  },
  {
   "cell_type": "code",
   "execution_count": 261,
   "metadata": {
    "collapsed": true,
    "deletable": true,
    "editable": true
   },
   "outputs": [],
   "source": [
    "def ir_key(machine, code):\n",
    "    def is_ebx(line):\n",
    "        return (str(line.args[0]) in [\"EBX\", \"BX\", \"BL\"] and not line.name == \"MOV\")\n",
    "\n",
    "    def load_asm(asm):\n",
    "        bin_stream = bin_stream_str(asm)\n",
    "        mdis = machine.dis_engine(bin_stream)\n",
    "        asm_block = mdis.dis_bloc(0)\n",
    "        ira = machine.ira(mdis.symbol_pool)\n",
    "        ira.add_bloc(asm_block)\n",
    "        symbols_init = ira.arch.regs.all_regs_ids_byname\n",
    "        return SymbolicExecutionEngine(ira, symbols_init)\n",
    "    \n",
    "    i = 0\n",
    "    asm = \"\"\n",
    "    while is_ebx(code[i]):\n",
    "        asm += code[i].b\n",
    "        i += 1\n",
    "    symb = load_asm(asm)\n",
    "    symb.emul_ir_block(0)\n",
    "    tp = TranslatorPython()\n",
    "    return (lambda EBX: eval(tp.from_expr(symb.symbols[ExprId('EBX', 32)])))"
   ]
  },
  {
   "cell_type": "code",
   "execution_count": 262,
   "metadata": {
    "collapsed": false,
    "deletable": true,
    "editable": true,
    "scrolled": true
   },
   "outputs": [
    {
     "name": "stderr",
     "output_type": "stream",
     "text": [
      "WARNING: not enough bytes in str\n",
      "WARNING: cannot disasm at C\n"
     ]
    }
   ],
   "source": [
    "mach = Machine(\"x86_32\")\n",
    "ebx_fn = ir_key(mach, mnemonics[20].code)"
   ]
  },
  {
   "cell_type": "code",
   "execution_count": 263,
   "metadata": {
    "collapsed": false,
    "deletable": true,
    "editable": true
   },
   "outputs": [
    {
     "data": {
      "text/plain": [
       "3735901591"
      ]
     },
     "execution_count": 263,
     "metadata": {},
     "output_type": "execute_result"
    }
   ],
   "source": [
    "ebx_fn(0xdeadbeef)"
   ]
  },
  {
   "cell_type": "code",
   "execution_count": 253,
   "metadata": {
    "collapsed": false,
    "deletable": true,
    "editable": true
   },
   "outputs": [
    {
     "name": "stdout",
     "output_type": "stream",
     "text": [
      "ADD        BL, 0x63\n",
      "XOR        BL, 0x2B\n",
      "SUB        EBX, 0x68E2\n",
      "MOV        CL, BYTE PTR [EBP]\n",
      "INC        EBP\n",
      "MOV        EAX, DWORD PTR [EBP]\n",
      "SHR        EAX, CL\n",
      "MOV        DWORD PTR [EBP], EAX\n",
      "PUSHFD     \n",
      "SUB        EBP, 0x4\n",
      "POP        DWORD PTR [EBP]\n",
      "JMP        loc_000000000040B475:0x0040b475\n"
     ]
    }
   ],
   "source": [
    "for i in mnemonics[20].code:\n",
    "    print i"
   ]
  },
  {
   "cell_type": "code",
   "execution_count": null,
   "metadata": {
    "collapsed": true,
    "deletable": true,
    "editable": true
   },
   "outputs": [],
   "source": []
  }
 ],
 "metadata": {
  "kernelspec": {
   "display_name": "Python 2",
   "language": "python2.7",
   "name": "python2"
  },
  "language_info": {
   "codemirror_mode": {
    "name": "ipython",
    "version": 2
   },
   "file_extension": ".py",
   "mimetype": "text/x-python",
   "name": "python",
   "nbconvert_exporter": "python",
   "pygments_lexer": "ipython2",
   "version": "2.7.14"
  }
 },
 "nbformat": 4,
 "nbformat_minor": 2
}
